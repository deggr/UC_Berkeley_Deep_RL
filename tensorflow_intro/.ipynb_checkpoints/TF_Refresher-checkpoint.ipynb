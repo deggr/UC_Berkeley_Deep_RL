{
 "cells": [
  {
   "cell_type": "markdown",
   "metadata": {},
   "source": [
    "# Introduction to TensorFlow\n",
    "### TODO: Add index"
   ]
  },
  {
   "cell_type": "code",
   "execution_count": 7,
   "metadata": {},
   "outputs": [],
   "source": [
    "import tensorflow as tf\n",
    "import numpy as np\n",
    "import matplotlib.pyplot as plt\n",
    "import matplotlib.cm as cm\n",
    "import matplotlib.patches as mpatches"
   ]
  },
  {
   "cell_type": "code",
   "execution_count": 8,
   "metadata": {},
   "outputs": [],
   "source": [
    "def tf_reset():\n",
    "    try:\n",
    "        sess.close()\n",
    "    except:\n",
    "        pass\n",
    "    tf.reset_default_graph()\n",
    "    return tf.Session()"
   ]
  },
  {
   "cell_type": "markdown",
   "metadata": {},
   "source": [
    "# 1.1 Constant input"
   ]
  },
  {
   "cell_type": "code",
   "execution_count": 13,
   "metadata": {},
   "outputs": [
    {
     "name": "stdout",
     "output_type": "stream",
     "text": [
      "c = 3.0\n"
     ]
    }
   ],
   "source": [
    "sess = tf_reset()\n",
    "\n",
    "# define inputs\n",
    "a = tf.constant(1.0)\n",
    "b = tf.constant(2.0)\n",
    "\n",
    "c = a + b\n",
    "\n",
    "c_run = sess.run(c)\n",
    "\n",
    "print('c = {0}'.format(c_run))"
   ]
  },
  {
   "cell_type": "markdown",
   "metadata": {},
   "source": [
    "# 1.2 Fixed input size"
   ]
  },
  {
   "cell_type": "code",
   "execution_count": 16,
   "metadata": {},
   "outputs": [
    {
     "name": "stdout",
     "output_type": "stream",
     "text": [
      "c0 :[2.]\n",
      "c1 :[5.]\n"
     ]
    }
   ],
   "source": [
    "sess = tf_reset()\n",
    "\n",
    "a = tf.placeholder(dtype=tf.float32 , shape=[1] , name='a_placeholder')\n",
    "b = tf.placeholder(dtype=tf.float32 , shape=[1] , name='b_placeholder')\n",
    "\n",
    "c = a + b\n",
    "\n",
    "c0_run = sess.run(c, feed_dict={a: [1.0] , b: [1.0]})\n",
    "c1_run = sess.run(c, feed_dict={a: [1.0] , b: [4.0]})\n",
    "\n",
    "print(f'c0 :{c0_run}')\n",
    "print(f'c1 :{c1_run}')"
   ]
  },
  {
   "cell_type": "markdown",
   "metadata": {},
   "source": [
    "# 1.3 Dynamic input size"
   ]
  },
  {
   "cell_type": "code",
   "execution_count": 17,
   "metadata": {},
   "outputs": [
    {
     "name": "stdout",
     "output_type": "stream",
     "text": [
      "c0 :[2.]\n",
      "c1 :[3. 6.]\n"
     ]
    }
   ],
   "source": [
    "sess = tf_reset()\n",
    "\n",
    "a = tf.placeholder(dtype=tf.float32 , shape=[None] , name='a_placeholder')\n",
    "b = tf.placeholder(dtype=tf.float32 , shape=[None] , name='b_placeholder')\n",
    "\n",
    "c = a + b\n",
    "\n",
    "c0_run = sess.run(c, feed_dict={a: [1.0] , b: [1.0]})\n",
    "c1_run = sess.run(c, feed_dict={a: [1.0, 2.0] , b: [2.0, 4.0]})\n",
    "\n",
    "print(f'c0 :{c0_run}')\n",
    "print(f'c1 :{c1_run}')"
   ]
  },
  {
   "cell_type": "markdown",
   "metadata": {},
   "source": [
    "# 2. Perform computations"
   ]
  },
  {
   "cell_type": "code",
   "execution_count": 29,
   "metadata": {},
   "outputs": [],
   "source": [
    "sess = tf_reset()\n",
    "\n",
    "a = tf.constant([[-1.], [-2.], [-1.]], dtype=tf.float32)\n",
    "b = tf.constant([[1., 2., 3.]], dtype=tf.float32)"
   ]
  },
  {
   "cell_type": "code",
   "execution_count": 30,
   "metadata": {},
   "outputs": [
    {
     "name": "stdout",
     "output_type": "stream",
     "text": [
      "[[2. 4. 6.]]\n"
     ]
    }
   ],
   "source": [
    "c = b + b\n",
    "print(sess.run(c))"
   ]
  },
  {
   "cell_type": "code",
   "execution_count": 31,
   "metadata": {},
   "outputs": [
    {
     "name": "stdout",
     "output_type": "stream",
     "text": [
      "[[ 0.  1.  2.]\n",
      " [-1.  0.  1.]\n",
      " [ 0.  1.  2.]]\n"
     ]
    }
   ],
   "source": [
    "d = a + b\n",
    "print(sess.run(d))"
   ]
  },
  {
   "cell_type": "code",
   "execution_count": 34,
   "metadata": {},
   "outputs": [
    {
     "name": "stdout",
     "output_type": "stream",
     "text": [
      "[[-8.]]\n"
     ]
    }
   ],
   "source": [
    "matmul = tf.matmul(b, a)\n",
    "matmul = sess.run(matmul)\n",
    "\n",
    "print(matmul)"
   ]
  },
  {
   "cell_type": "markdown",
   "metadata": {},
   "source": [
    "# 3. creating variables"
   ]
  },
  {
   "cell_type": "code",
   "execution_count": 35,
   "metadata": {},
   "outputs": [
    {
     "name": "stdout",
     "output_type": "stream",
     "text": [
      "<tf.Variable 'myvar:0' shape=(1, 3) dtype=float32_ref>\n"
     ]
    }
   ],
   "source": [
    "var_init = [[1.0, 4.0, 6.0]]\n",
    "var = tf.get_variable(name='myvar',\n",
    "                     shape=[1, 3],\n",
    "                     dtype=tf.float32,\n",
    "                     initializer=tf.constant_initializer(var_init))\n",
    "\n",
    "print(var)"
   ]
  },
  {
   "cell_type": "code",
   "execution_count": null,
   "metadata": {},
   "outputs": [],
   "source": []
  },
  {
   "cell_type": "code",
   "execution_count": null,
   "metadata": {},
   "outputs": [],
   "source": []
  },
  {
   "cell_type": "code",
   "execution_count": null,
   "metadata": {},
   "outputs": [],
   "source": []
  },
  {
   "cell_type": "code",
   "execution_count": null,
   "metadata": {},
   "outputs": [],
   "source": []
  },
  {
   "cell_type": "code",
   "execution_count": null,
   "metadata": {},
   "outputs": [],
   "source": []
  }
 ],
 "metadata": {
  "kernelspec": {
   "display_name": "nn_env",
   "language": "python",
   "name": "nn_env"
  },
  "language_info": {
   "codemirror_mode": {
    "name": "ipython",
    "version": 3
   },
   "file_extension": ".py",
   "mimetype": "text/x-python",
   "name": "python",
   "nbconvert_exporter": "python",
   "pygments_lexer": "ipython3",
   "version": "3.6.7"
  }
 },
 "nbformat": 4,
 "nbformat_minor": 2
}
